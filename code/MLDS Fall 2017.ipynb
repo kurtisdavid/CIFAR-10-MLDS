{
 "cells": [
  {
   "cell_type": "markdown",
   "metadata": {},
   "source": [
    "### Load Images"
   ]
  },
  {
   "cell_type": "code",
   "execution_count": 1,
   "metadata": {
    "collapsed": true
   },
   "outputs": [],
   "source": [
    "import tensorflow as tf\n",
    "from glob import glob\n",
    "import numpy as np\n",
    "import cv2"
   ]
  },
  {
   "cell_type": "code",
   "execution_count": 2,
   "metadata": {
    "collapsed": true
   },
   "outputs": [],
   "source": [
    "# function to take filenames and convert to numpy arrays\n",
    "# TODO: use pickle to save the dataset instead\n",
    "def convert_images(files):\n",
    "    return np.asarray([cv2.imread(file) for file in files])"
   ]
  },
  {
   "cell_type": "code",
   "execution_count": 2,
   "metadata": {
    "collapsed": true,
    "scrolled": true
   },
   "outputs": [],
   "source": [
    "filenames = glob(\"./train/*\")\n",
    "filenames = sorted(filenames, key = lambda x:int(x.split('\\\\')[1].split('.png')[0]))"
   ]
  },
  {
   "cell_type": "code",
   "execution_count": null,
   "metadata": {
    "collapsed": true
   },
   "outputs": [],
   "source": [
    "image_data = convert_images(filenames)"
   ]
  },
  {
   "cell_type": "code",
   "execution_count": 5,
   "metadata": {},
   "outputs": [
    {
     "data": {
      "text/plain": [
       "(50000, 32, 32, 3)"
      ]
     },
     "execution_count": 5,
     "metadata": {},
     "output_type": "execute_result"
    }
   ],
   "source": [
    "image_data.shape"
   ]
  },
  {
   "cell_type": "code",
   "execution_count": 4,
   "metadata": {
    "collapsed": true
   },
   "outputs": [],
   "source": [
    "#np.save('train.npy',image_data)"
   ]
  },
  {
   "cell_type": "code",
   "execution_count": 3,
   "metadata": {
    "collapsed": true
   },
   "outputs": [],
   "source": [
    "image_data = np.load('train.npy')"
   ]
  },
  {
   "cell_type": "markdown",
   "metadata": {},
   "source": [
    "### Load Labels"
   ]
  },
  {
   "cell_type": "code",
   "execution_count": 4,
   "metadata": {
    "collapsed": true
   },
   "outputs": [],
   "source": [
    "import pandas as pd"
   ]
  },
  {
   "cell_type": "code",
   "execution_count": 5,
   "metadata": {
    "collapsed": true
   },
   "outputs": [],
   "source": [
    "labels_df = pd.read_csv('trainLabels.csv')"
   ]
  },
  {
   "cell_type": "code",
   "execution_count": 6,
   "metadata": {
    "collapsed": true
   },
   "outputs": [],
   "source": [
    "labels_unique = labels_df.label.unique()"
   ]
  },
  {
   "cell_type": "code",
   "execution_count": 7,
   "metadata": {
    "scrolled": true
   },
   "outputs": [
    {
     "data": {
      "text/plain": [
       "array(['frog', 'truck', 'deer', 'automobile', 'bird', 'horse', 'ship',\n",
       "       'cat', 'dog', 'airplane'], dtype=object)"
      ]
     },
     "execution_count": 7,
     "metadata": {},
     "output_type": "execute_result"
    }
   ],
   "source": [
    "labels_unique"
   ]
  },
  {
   "cell_type": "code",
   "execution_count": 8,
   "metadata": {
    "collapsed": true,
    "scrolled": true
   },
   "outputs": [],
   "source": [
    "# just get the id based on the filename\n",
    "train_indeces = list((int(filenames[i].split('\\\\')[1].split('.png')[0]) for i in range(len(filenames))))"
   ]
  },
  {
   "cell_type": "code",
   "execution_count": 9,
   "metadata": {
    "collapsed": true
   },
   "outputs": [],
   "source": [
    "# get real labels of each\n",
    "train_labels = [labels_df['label'][idx-1] for idx in train_indeces]"
   ]
  },
  {
   "cell_type": "code",
   "execution_count": 10,
   "metadata": {
    "collapsed": true
   },
   "outputs": [],
   "source": [
    "# convert each real label to corresponding index (0-9)\n",
    "label_data = [np.where(label==labels_unique)[0][0] for label in train_labels]"
   ]
  },
  {
   "cell_type": "markdown",
   "metadata": {},
   "source": [
    "### Split Training/Validation"
   ]
  },
  {
   "cell_type": "code",
   "execution_count": 11,
   "metadata": {},
   "outputs": [
    {
     "data": {
      "text/plain": [
       "(5000, 32, 32, 3)"
      ]
     },
     "execution_count": 11,
     "metadata": {},
     "output_type": "execute_result"
    }
   ],
   "source": [
    "from sklearn.model_selection import train_test_split\n",
    "\n",
    "image_train, image_val, label_train, label_val = train_test_split(image_data,label_data,test_size=0.1,random_state = 7)\n",
    "image_val.shape"
   ]
  },
  {
   "cell_type": "markdown",
   "metadata": {},
   "source": [
    "## Training"
   ]
  },
  {
   "cell_type": "markdown",
   "metadata": {},
   "source": [
    "For this project, we'll be utilizing [convolutional neural networks](https://en.wikipedia.org/wiki/Convolutional_neural_network). They are excellent for image problems due to their ability to capture spatial information of the pixels. A good summary can be found [here](http://cs231n.github.io/convolutional-networks/)!"
   ]
  },
  {
   "cell_type": "markdown",
   "metadata": {},
   "source": [
    "Specifically, we implemented [Residual Networks](https://arxiv.org/abs/1512.03385), a popular architecture that uses a novel method for constructing a network. \n",
    "\n",
    "The original CNN architectures were found to have worse performance as the number of layers increase - it became increasingly difficult to backpropagate through a huge amount of layers. \n",
    "\n",
    "Residual Networks (ResNet) aims to fix this by introducing a \"residual block\" (seen below)"
   ]
  },
  {
   "cell_type": "markdown",
   "metadata": {},
   "source": [
    "<img src='./resblock.png'>"
   ]
  },
  {
   "cell_type": "markdown",
   "metadata": {},
   "source": [
    "The aim of these residual blocks is for the network to **learn whether or not convolutions in a layer are useful or not**. To do this, the output of a block will always include the identity of the inputs. \n",
    "\n",
    "If the identity transformation fit the data the most, it would be easier to zero out the weights of the convolutions in this block, rather than fitting the convolutions to an identity mapping."
   ]
  },
  {
   "cell_type": "markdown",
   "metadata": {},
   "source": [
    "Mathematically, let $F(x)$ be the two convolutional layers within the block. Thus our residual function $H(x)$ will just be:\n",
    "\n",
    "$$ H(x) = F(x) + x $$\n",
    "\n",
    "This can be easily backpropagated with since:\n",
    "\n",
    "$$ H'(x) = F'(x) + I $$\n",
    "\n",
    "Where $I$ is the $n x n$ identity matrix, given that $x$ as $n$ inputs."
   ]
  },
  {
   "cell_type": "markdown",
   "metadata": {},
   "source": [
    "### Create Graph\n",
    "\n",
    "To actually implement this, we used [Tensorflow](https://www.tensorflow.org/).\n",
    "\n",
    "A summary of the process can be described in these steps:\n",
    "\n",
    "- Data Augmentation\n",
    "- Mean Centering Images (take mean of R,G,B channels)\n",
    "- Architecture of Actual Network:\n",
    "    - 1 Convolutional Layer\n",
    "        - kernel_size = (3,3)\n",
    "        - stride = 1\n",
    "        - num_outputs = 16\n",
    "        - Batch Norm then passed into Relu Activation\n",
    "    - 3 Residual Block Groups\n",
    "        - n residual blocks\n",
    "            - kernel_size = (3,3)\n",
    "            - stride = 1\n",
    "            - num_outputs = [16,32,64] (16 for first group, 32 for second, 64 for last)\n",
    "    - 1 Global Average Pooling Layer\n",
    "        - Avg Pooling, No padding\n",
    "        - kernel_size = (8,8)\n",
    "    - 1 Fully Connected Layer\n",
    "        - num_outputs = 10\n",
    "- Loss: Cross entropy + WEIGHT_DECAY * (L2 Weight Regularization)\n",
    "- Optimizer: SGD with Momentum of 0.9\n",
    "    - Initial learning rate of 0.1\n",
    "    - Decay by 1/10 at iteration 32,000 and 48,000\n"
   ]
  },
  {
   "cell_type": "markdown",
   "metadata": {},
   "source": [
    "** Data Augmentation **\n",
    "- This is an important step because it allows us to \"artificially\" increase our training set.\n",
    "- More data = more information the neural network can learn\n",
    "- Helps increase generalization\n",
    "- Doing two augmentations:\n",
    "    - Pad around image by 4 pixels and randomly crop a new 32x32x3 image\n",
    "    - Random horizontal flip\n",
    "    \n",
    "**Changing Dimension between Residual Blocks** \n",
    "- There will be 3 Residual Blocks in the network\n",
    "- When connecting one to the next group, output channels will not match.\n",
    "    - e.g. First block group outputs 16 channels, second group outputs 32 channels. Cannot add $F(x) + x$ in first residual of second group, since $x$ has 16 channels whereas $F(x)$ will have 32.\n",
    "- Solution is to modify x so that the dimensions match:\n",
    "    - (A) You can pad 0 channels on x to match (We used this)\n",
    "    - (B) Use a 1x1 Convolution with desired output channels as a projection layer\n",
    "- Of course, we want to reduce the Width/Height dimensions going from group to group, so we also add a stride of 2 to any operation\n",
    "    - (A) Avg-pool with stride 2 before padding 0 channels\n",
    "    - (B) Just do the convolution with a stride of 2\n",
    "\n",
    "\n",
    "#### Resnet Size\n",
    "- This can be defined by a parameter $n$, which denotes how many residual blocks per group\n",
    "- We tried Resnet-20 and Resnet-32 (n=3, n=5), but can be done for more with more compute power"
   ]
  },
  {
   "cell_type": "markdown",
   "metadata": {},
   "source": [
    "### Tensorflow Implementation"
   ]
  },
  {
   "cell_type": "code",
   "execution_count": 12,
   "metadata": {
    "collapsed": true
   },
   "outputs": [],
   "source": [
    "red_mean = np.mean(image_train[:,:,:,0])\n",
    "green_mean = np.mean(image_train[:,:,:,1])\n",
    "blue_mean = np.mean(image_train[:,:,:,2])"
   ]
  },
  {
   "cell_type": "code",
   "execution_count": 13,
   "metadata": {
    "collapsed": true
   },
   "outputs": [],
   "source": [
    "def residual(inputs = None, num_outputs = 16,is_training = False,projection = False, weight_decay = 1e-4):\n",
    "    identity = inputs # keep output of last layer\n",
    "    inputs = tf.nn.relu(tf.contrib.layers.batch_norm(inputs = inputs,is_training = is_training)) # make sure to pass through activation\n",
    "    if projection:\n",
    "        identity = tf.contrib.layers.avg_pool2d(inputs = identity, stride = 2, kernel_size = (2,2))\n",
    "        identity = tf.pad(identity, [[0,0],[0,0],[0,0],[num_outputs//4,num_outputs//4]]) # pad with 0s to keep # filters the same\n",
    "    conv1 = tf.contrib.layers.conv2d(inputs = inputs, num_outputs = num_outputs, stride = 2 if projection else 1, kernel_size = (3,3), activation_fn = None, weights_regularizer = tf.contrib.layers.l2_regularizer(weight_decay))\n",
    "    bn1 = tf.nn.relu(tf.contrib.layers.batch_norm(inputs = conv1, is_training = is_training))\n",
    "    conv2 = tf.contrib.layers.conv2d(inputs = bn1, num_outputs = num_outputs, stride = 1, kernel_size = (3,3), activation_fn = None, weights_regularizer = tf.contrib.layers.l2_regularizer(weight_decay))\n",
    "    return tf.add(identity,conv2)"
   ]
  },
  {
   "cell_type": "code",
   "execution_count": 14,
   "metadata": {},
   "outputs": [
    {
     "name": "stdout",
     "output_type": "stream",
     "text": [
      "(?, 10)\n",
      "Total number of variables used: 464154\n"
     ]
    }
   ],
   "source": [
    "tf.reset_default_graph()\n",
    "weight_decay = 1e-4\n",
    "\n",
    "inputs = tf.placeholder(tf.float32, (None,32,32,3))\n",
    "labels = tf.placeholder(tf.int64, (None), name='labels')\n",
    "learning_rate = tf.placeholder(tf.float32, (None))\n",
    "is_training = tf.placeholder(tf.bool, (None))\n",
    "\n",
    "def image_augment(I):\n",
    "    # pad 4 zeros in width and height\n",
    "    I = tf.pad(I,[[4,4],[4,4],[0,0]])\n",
    "    # crop new 32 x 32 image from padded image\n",
    "    I = tf.random_crop(I,[32,32,3])\n",
    "    # flip left/right\n",
    "    I = tf.image.random_flip_left_right(I)\n",
    "    return I\n",
    "\n",
    "def normalize(I, means):\n",
    "    # isolate color channels and make sure rank 3 tensors\n",
    "    new_red = tf.expand_dims((I[:,:,0]-means[0])/255,-1)\n",
    "    new_blue = tf.expand_dims((I[:,:,1]-means[1])/255,-1)\n",
    "    new_green = tf.expand_dims((I[:,:,2]-means[2])/255,-1)\n",
    "    \n",
    "    return tf.concat([new_red,new_blue,new_green], axis = 2)\n",
    "\n",
    "\n",
    "augmented = tf.map_fn(image_augment,inputs)\n",
    "final_input = tf.identity(augmented)\n",
    "whitened = tf.map_fn(lambda I: normalize(I,[red_mean,green_mean,blue_mean]), final_input)\n",
    "\n",
    "n_outputs = [16,32,64]\n",
    "n = 5 # 3 -> 20 layers, 5-> 32 layers, 7->44 layers\n",
    "\n",
    "layer1 = tf.contrib.layers.conv2d(inputs = whitened, num_outputs = 16, stride = 1, kernel_size = (3,3), activation_fn = None, weights_regularizer = tf.contrib.layers.l2_regularizer(weight_decay))\n",
    "res_layer = residual(inputs = layer1,num_outputs = 16,is_training = is_training)\n",
    "\n",
    "for i,outputs in enumerate(n_outputs):\n",
    "    for j in range(n-1):\n",
    "        res_layer = residual(inputs = res_layer, num_outputs = outputs, is_training = is_training)\n",
    "    if (i<2):\n",
    "        res_layer = residual(inputs = res_layer, num_outputs = n_outputs[i+1],is_training=is_training,projection=True)\n",
    "        \n",
    "res_layer = tf.nn.relu(tf.contrib.layers.batch_norm(inputs=res_layer,is_training=is_training))\n",
    "global_avg_pool = tf.contrib.layers.avg_pool2d(inputs=res_layer,stride = 1, kernel_size = (8,8),padding='VALID')\n",
    "\n",
    "fc = tf.contrib.layers.fully_connected(inputs=tf.contrib.layers.flatten(global_avg_pool),num_outputs = 10,weights_regularizer=tf.contrib.layers.l2_regularizer(weight_decay),activation_fn=None)\n",
    "print(fc.shape)\n",
    "output = tf.identity(fc, name='output')\n",
    "    \n",
    "loss = tf.reduce_mean(tf.nn.sparse_softmax_cross_entropy_with_logits(logits=output, labels=labels)) + tf.losses.get_regularization_loss()\n",
    "optimizer = tf.train.MomentumOptimizer(learning_rate,0.9)\n",
    "\n",
    "with tf.control_dependencies(tf.get_collection(tf.GraphKeys.UPDATE_OPS)):\n",
    "    minimizer = optimizer.minimize(loss)\n",
    "\n",
    "correct = tf.equal(tf.argmax(output, 1), labels)\n",
    "accuracy = tf.reduce_mean(tf.cast(correct, tf.float32))\n",
    "\n",
    "# Source: CS342 with Dr. Krähenbühl\n",
    "print( \"Total number of variables used:\", np.sum([v.get_shape().num_elements() for v in tf.trainable_variables()]))"
   ]
  },
  {
   "cell_type": "markdown",
   "metadata": {},
   "source": [
    "### Training for 200 Epochs\n",
    "\n",
    "- Epochs are just iterations\n",
    "- Each iteration we shuffle the dataset and then feed in the images into the CNN in batches (GPU can't fit all images at once)."
   ]
  },
  {
   "cell_type": "markdown",
   "metadata": {},
   "source": [
    "### Resnet 32"
   ]
  },
  {
   "cell_type": "code",
   "execution_count": 15,
   "metadata": {
    "scrolled": true
   },
   "outputs": [
    {
     "name": "stdout",
     "output_type": "stream",
     "text": [
      "[  0] Train Accuracy: 0.410  \t  Train Loss: 1.653 \t Val. Accuracy 0.159 \t Val. Loss 7.113 \n",
      "[  1] Train Accuracy: 0.608  \t  Train Loss: 1.153 \t Val. Accuracy 0.187 \t Val. Loss 24.514 \n",
      "[  2] Train Accuracy: 0.711  \t  Train Loss: 0.905 \t Val. Accuracy 0.291 \t Val. Loss 7.490 \n",
      "[  3] Train Accuracy: 0.757  \t  Train Loss: 0.787 \t Val. Accuracy 0.330 \t Val. Loss 6.315 \n",
      "[  4] Train Accuracy: 0.787  \t  Train Loss: 0.710 \t Val. Accuracy 0.365 \t Val. Loss 5.644 \n",
      "[  5] Train Accuracy: 0.807  \t  Train Loss: 0.660 \t Val. Accuracy 0.567 \t Val. Loss 1.826 \n",
      "[  6] Train Accuracy: 0.820  \t  Train Loss: 0.623 \t Val. Accuracy 0.535 \t Val. Loss 2.258 \n",
      "[  7] Train Accuracy: 0.832  \t  Train Loss: 0.594 \t Val. Accuracy 0.748 \t Val. Loss 0.983 \n",
      "[  8] Train Accuracy: 0.844  \t  Train Loss: 0.572 \t Val. Accuracy 0.690 \t Val. Loss 1.079 \n",
      "[  9] Train Accuracy: 0.851  \t  Train Loss: 0.549 \t Val. Accuracy 0.665 \t Val. Loss 1.242 \n",
      "[ 10] Train Accuracy: 0.858  \t  Train Loss: 0.536 \t Val. Accuracy 0.717 \t Val. Loss 1.038 \n",
      "[ 11] Train Accuracy: 0.866  \t  Train Loss: 0.522 \t Val. Accuracy 0.746 \t Val. Loss 1.014 \n",
      "[ 12] Train Accuracy: 0.869  \t  Train Loss: 0.510 \t Val. Accuracy 0.714 \t Val. Loss 1.076 \n",
      "[ 13] Train Accuracy: 0.875  \t  Train Loss: 0.498 \t Val. Accuracy 0.731 \t Val. Loss 1.039 \n",
      "[ 14] Train Accuracy: 0.878  \t  Train Loss: 0.490 \t Val. Accuracy 0.757 \t Val. Loss 0.921 \n",
      "[ 15] Train Accuracy: 0.882  \t  Train Loss: 0.479 \t Val. Accuracy 0.746 \t Val. Loss 0.980 \n",
      "[ 16] Train Accuracy: 0.887  \t  Train Loss: 0.470 \t Val. Accuracy 0.740 \t Val. Loss 1.007 \n",
      "[ 17] Train Accuracy: 0.889  \t  Train Loss: 0.465 \t Val. Accuracy 0.645 \t Val. Loss 1.545 \n",
      "[ 18] Train Accuracy: 0.891  \t  Train Loss: 0.459 \t Val. Accuracy 0.659 \t Val. Loss 1.306 \n",
      "[ 19] Train Accuracy: 0.897  \t  Train Loss: 0.448 \t Val. Accuracy 0.752 \t Val. Loss 0.962 \n",
      "[ 20] Train Accuracy: 0.897  \t  Train Loss: 0.444 \t Val. Accuracy 0.789 \t Val. Loss 0.785 \n",
      "[ 21] Train Accuracy: 0.903  \t  Train Loss: 0.438 \t Val. Accuracy 0.819 \t Val. Loss 0.717 \n",
      "[ 22] Train Accuracy: 0.903  \t  Train Loss: 0.439 \t Val. Accuracy 0.799 \t Val. Loss 0.792 \n",
      "[ 23] Train Accuracy: 0.902  \t  Train Loss: 0.434 \t Val. Accuracy 0.815 \t Val. Loss 0.806 \n",
      "[ 24] Train Accuracy: 0.907  \t  Train Loss: 0.430 \t Val. Accuracy 0.755 \t Val. Loss 0.977 \n",
      "[ 25] Train Accuracy: 0.908  \t  Train Loss: 0.421 \t Val. Accuracy 0.719 \t Val. Loss 1.119 \n",
      "[ 26] Train Accuracy: 0.912  \t  Train Loss: 0.418 \t Val. Accuracy 0.826 \t Val. Loss 0.664 \n",
      "[ 27] Train Accuracy: 0.911  \t  Train Loss: 0.418 \t Val. Accuracy 0.786 \t Val. Loss 0.918 \n",
      "[ 28] Train Accuracy: 0.914  \t  Train Loss: 0.413 \t Val. Accuracy 0.601 \t Val. Loss 1.965 \n",
      "[ 29] Train Accuracy: 0.914  \t  Train Loss: 0.416 \t Val. Accuracy 0.817 \t Val. Loss 0.731 \n",
      "[ 30] Train Accuracy: 0.919  \t  Train Loss: 0.407 \t Val. Accuracy 0.823 \t Val. Loss 0.727 \n",
      "[ 31] Train Accuracy: 0.920  \t  Train Loss: 0.404 \t Val. Accuracy 0.783 \t Val. Loss 0.929 \n",
      "[ 32] Train Accuracy: 0.917  \t  Train Loss: 0.411 \t Val. Accuracy 0.796 \t Val. Loss 0.881 \n",
      "[ 33] Train Accuracy: 0.921  \t  Train Loss: 0.402 \t Val. Accuracy 0.809 \t Val. Loss 0.742 \n",
      "[ 34] Train Accuracy: 0.920  \t  Train Loss: 0.405 \t Val. Accuracy 0.799 \t Val. Loss 0.875 \n",
      "[ 35] Train Accuracy: 0.924  \t  Train Loss: 0.395 \t Val. Accuracy 0.777 \t Val. Loss 0.897 \n",
      "[ 36] Train Accuracy: 0.925  \t  Train Loss: 0.393 \t Val. Accuracy 0.802 \t Val. Loss 0.865 \n",
      "[ 37] Train Accuracy: 0.922  \t  Train Loss: 0.402 \t Val. Accuracy 0.821 \t Val. Loss 0.783 \n",
      "[ 38] Train Accuracy: 0.926  \t  Train Loss: 0.393 \t Val. Accuracy 0.848 \t Val. Loss 0.668 \n",
      "[ 39] Train Accuracy: 0.927  \t  Train Loss: 0.387 \t Val. Accuracy 0.762 \t Val. Loss 1.045 \n",
      "[ 40] Train Accuracy: 0.929  \t  Train Loss: 0.387 \t Val. Accuracy 0.822 \t Val. Loss 0.756 \n",
      "[ 41] Train Accuracy: 0.929  \t  Train Loss: 0.389 \t Val. Accuracy 0.796 \t Val. Loss 0.802 \n",
      "[ 42] Train Accuracy: 0.929  \t  Train Loss: 0.388 \t Val. Accuracy 0.841 \t Val. Loss 0.668 \n",
      "[ 43] Train Accuracy: 0.931  \t  Train Loss: 0.384 \t Val. Accuracy 0.796 \t Val. Loss 0.897 \n",
      "[ 44] Train Accuracy: 0.931  \t  Train Loss: 0.387 \t Val. Accuracy 0.796 \t Val. Loss 0.881 \n",
      "[ 45] Train Accuracy: 0.934  \t  Train Loss: 0.380 \t Val. Accuracy 0.782 \t Val. Loss 0.971 \n",
      "[ 46] Train Accuracy: 0.934  \t  Train Loss: 0.378 \t Val. Accuracy 0.782 \t Val. Loss 0.949 \n",
      "[ 47] Train Accuracy: 0.933  \t  Train Loss: 0.380 \t Val. Accuracy 0.730 \t Val. Loss 1.292 \n",
      "[ 48] Train Accuracy: 0.935  \t  Train Loss: 0.376 \t Val. Accuracy 0.800 \t Val. Loss 0.970 \n",
      "[ 49] Train Accuracy: 0.934  \t  Train Loss: 0.378 \t Val. Accuracy 0.775 \t Val. Loss 0.982 \n",
      "[ 50] Train Accuracy: 0.938  \t  Train Loss: 0.369 \t Val. Accuracy 0.838 \t Val. Loss 0.724 \n",
      "[ 51] Train Accuracy: 0.933  \t  Train Loss: 0.380 \t Val. Accuracy 0.782 \t Val. Loss 0.994 \n",
      "[ 52] Train Accuracy: 0.937  \t  Train Loss: 0.373 \t Val. Accuracy 0.817 \t Val. Loss 0.889 \n",
      "[ 53] Train Accuracy: 0.938  \t  Train Loss: 0.369 \t Val. Accuracy 0.826 \t Val. Loss 0.858 \n",
      "[ 54] Train Accuracy: 0.937  \t  Train Loss: 0.370 \t Val. Accuracy 0.763 \t Val. Loss 1.110 \n",
      "[ 55] Train Accuracy: 0.937  \t  Train Loss: 0.377 \t Val. Accuracy 0.772 \t Val. Loss 1.048 \n",
      "[ 56] Train Accuracy: 0.939  \t  Train Loss: 0.367 \t Val. Accuracy 0.760 \t Val. Loss 1.090 \n",
      "[ 57] Train Accuracy: 0.939  \t  Train Loss: 0.371 \t Val. Accuracy 0.818 \t Val. Loss 0.811 \n",
      "[ 58] Train Accuracy: 0.938  \t  Train Loss: 0.369 \t Val. Accuracy 0.725 \t Val. Loss 1.392 \n",
      "[ 59] Train Accuracy: 0.939  \t  Train Loss: 0.365 \t Val. Accuracy 0.689 \t Val. Loss 1.619 \n",
      "[ 60] Train Accuracy: 0.940  \t  Train Loss: 0.369 \t Val. Accuracy 0.819 \t Val. Loss 0.905 \n",
      "[ 61] Train Accuracy: 0.939  \t  Train Loss: 0.370 \t Val. Accuracy 0.811 \t Val. Loss 0.821 \n",
      "[ 62] Train Accuracy: 0.943  \t  Train Loss: 0.360 \t Val. Accuracy 0.773 \t Val. Loss 1.040 \n",
      "[ 63] Train Accuracy: 0.940  \t  Train Loss: 0.370 \t Val. Accuracy 0.703 \t Val. Loss 1.646 \n",
      "[ 64] Train Accuracy: 0.942  \t  Train Loss: 0.365 \t Val. Accuracy 0.793 \t Val. Loss 1.015 \n",
      "[ 65] Train Accuracy: 0.944  \t  Train Loss: 0.358 \t Val. Accuracy 0.774 \t Val. Loss 1.259 \n",
      "[ 66] Train Accuracy: 0.943  \t  Train Loss: 0.362 \t Val. Accuracy 0.802 \t Val. Loss 0.906 \n",
      "[ 67] Train Accuracy: 0.942  \t  Train Loss: 0.364 \t Val. Accuracy 0.834 \t Val. Loss 0.791 \n",
      "[ 68] Train Accuracy: 0.943  \t  Train Loss: 0.365 \t Val. Accuracy 0.663 \t Val. Loss 1.744 \n",
      "[ 69] Train Accuracy: 0.943  \t  Train Loss: 0.364 \t Val. Accuracy 0.818 \t Val. Loss 0.853 \n",
      "[ 70] Train Accuracy: 0.942  \t  Train Loss: 0.366 \t Val. Accuracy 0.790 \t Val. Loss 0.971 \n",
      "[ 71] Train Accuracy: 0.946  \t  Train Loss: 0.354 \t Val. Accuracy 0.832 \t Val. Loss 0.800 \n",
      "[ 72] Train Accuracy: 0.944  \t  Train Loss: 0.360 \t Val. Accuracy 0.834 \t Val. Loss 0.745 \n",
      "[ 73] Train Accuracy: 0.942  \t  Train Loss: 0.363 \t Val. Accuracy 0.829 \t Val. Loss 0.822 \n",
      "[ 74] Train Accuracy: 0.945  \t  Train Loss: 0.358 \t Val. Accuracy 0.852 \t Val. Loss 0.725 \n",
      "[ 75] Train Accuracy: 0.947  \t  Train Loss: 0.352 \t Val. Accuracy 0.800 \t Val. Loss 0.976 \n",
      "[ 76] Train Accuracy: 0.945  \t  Train Loss: 0.363 \t Val. Accuracy 0.684 \t Val. Loss 1.554 \n",
      "[ 77] Train Accuracy: 0.944  \t  Train Loss: 0.361 \t Val. Accuracy 0.839 \t Val. Loss 0.809 \n",
      "[ 78] Train Accuracy: 0.945  \t  Train Loss: 0.358 \t Val. Accuracy 0.804 \t Val. Loss 1.021 \n",
      "[ 79] Train Accuracy: 0.947  \t  Train Loss: 0.353 \t Val. Accuracy 0.782 \t Val. Loss 1.050 \n",
      "[ 80] Train Accuracy: 0.946  \t  Train Loss: 0.355 \t Val. Accuracy 0.837 \t Val. Loss 0.803 \n",
      "[ 81] Train Accuracy: 0.946  \t  Train Loss: 0.360 \t Val. Accuracy 0.802 \t Val. Loss 0.885 \n",
      "[ 82] Train Accuracy: 0.947  \t  Train Loss: 0.356 \t Val. Accuracy 0.748 \t Val. Loss 1.098 \n",
      "[ 83] Train Accuracy: 0.947  \t  Train Loss: 0.353 \t Val. Accuracy 0.733 \t Val. Loss 1.376 \n",
      "[ 84] Train Accuracy: 0.948  \t  Train Loss: 0.352 \t Val. Accuracy 0.819 \t Val. Loss 0.904 \n",
      "[ 85] Train Accuracy: 0.947  \t  Train Loss: 0.355 \t Val. Accuracy 0.850 \t Val. Loss 0.771 \n",
      "[ 86] Train Accuracy: 0.947  \t  Train Loss: 0.355 \t Val. Accuracy 0.797 \t Val. Loss 0.981 \n",
      "[ 87] Train Accuracy: 0.949  \t  Train Loss: 0.349 \t Val. Accuracy 0.841 \t Val. Loss 0.778 \n",
      "[ 88] Train Accuracy: 0.947  \t  Train Loss: 0.355 \t Val. Accuracy 0.854 \t Val. Loss 0.688 \n",
      "[ 89] Train Accuracy: 0.947  \t  Train Loss: 0.352 \t Val. Accuracy 0.810 \t Val. Loss 0.881 \n",
      "[ 90] Train Accuracy: 0.949  \t  Train Loss: 0.349 \t Val. Accuracy 0.805 \t Val. Loss 0.936 \n"
     ]
    },
    {
     "name": "stdout",
     "output_type": "stream",
     "text": [
      "[ 91] Train Accuracy: 0.974  \t  Train Loss: 0.283 \t Val. Accuracy 0.891 \t Val. Loss 0.575 \n",
      "[ 92] Train Accuracy: 0.981  \t  Train Loss: 0.261 \t Val. Accuracy 0.906 \t Val. Loss 0.537 \n",
      "[ 93] Train Accuracy: 0.983  \t  Train Loss: 0.253 \t Val. Accuracy 0.908 \t Val. Loss 0.526 \n",
      "[ 94] Train Accuracy: 0.985  \t  Train Loss: 0.247 \t Val. Accuracy 0.910 \t Val. Loss 0.525 \n",
      "[ 95] Train Accuracy: 0.986  \t  Train Loss: 0.241 \t Val. Accuracy 0.908 \t Val. Loss 0.538 \n",
      "[ 96] Train Accuracy: 0.989  \t  Train Loss: 0.235 \t Val. Accuracy 0.907 \t Val. Loss 0.550 \n",
      "[ 97] Train Accuracy: 0.989  \t  Train Loss: 0.233 \t Val. Accuracy 0.910 \t Val. Loss 0.534 \n",
      "[ 98] Train Accuracy: 0.991  \t  Train Loss: 0.228 \t Val. Accuracy 0.914 \t Val. Loss 0.527 \n",
      "[ 99] Train Accuracy: 0.991  \t  Train Loss: 0.225 \t Val. Accuracy 0.913 \t Val. Loss 0.544 \n",
      "[100] Train Accuracy: 0.991  \t  Train Loss: 0.222 \t Val. Accuracy 0.914 \t Val. Loss 0.534 \n",
      "[101] Train Accuracy: 0.992  \t  Train Loss: 0.220 \t Val. Accuracy 0.909 \t Val. Loss 0.546 \n",
      "[102] Train Accuracy: 0.992  \t  Train Loss: 0.217 \t Val. Accuracy 0.914 \t Val. Loss 0.538 \n",
      "[103] Train Accuracy: 0.993  \t  Train Loss: 0.214 \t Val. Accuracy 0.914 \t Val. Loss 0.530 \n",
      "[104] Train Accuracy: 0.993  \t  Train Loss: 0.211 \t Val. Accuracy 0.914 \t Val. Loss 0.540 \n",
      "[105] Train Accuracy: 0.994  \t  Train Loss: 0.209 \t Val. Accuracy 0.913 \t Val. Loss 0.554 \n",
      "[106] Train Accuracy: 0.993  \t  Train Loss: 0.208 \t Val. Accuracy 0.915 \t Val. Loss 0.546 \n",
      "[107] Train Accuracy: 0.993  \t  Train Loss: 0.206 \t Val. Accuracy 0.914 \t Val. Loss 0.538 \n",
      "[108] Train Accuracy: 0.994  \t  Train Loss: 0.203 \t Val. Accuracy 0.915 \t Val. Loss 0.542 \n",
      "[109] Train Accuracy: 0.995  \t  Train Loss: 0.201 \t Val. Accuracy 0.916 \t Val. Loss 0.552 \n",
      "[110] Train Accuracy: 0.995  \t  Train Loss: 0.199 \t Val. Accuracy 0.915 \t Val. Loss 0.558 \n",
      "[111] Train Accuracy: 0.995  \t  Train Loss: 0.198 \t Val. Accuracy 0.915 \t Val. Loss 0.557 \n",
      "[112] Train Accuracy: 0.995  \t  Train Loss: 0.197 \t Val. Accuracy 0.919 \t Val. Loss 0.546 \n",
      "[113] Train Accuracy: 0.995  \t  Train Loss: 0.194 \t Val. Accuracy 0.914 \t Val. Loss 0.554 \n",
      "[114] Train Accuracy: 0.996  \t  Train Loss: 0.192 \t Val. Accuracy 0.912 \t Val. Loss 0.546 \n",
      "[115] Train Accuracy: 0.995  \t  Train Loss: 0.192 \t Val. Accuracy 0.918 \t Val. Loss 0.556 \n",
      "[116] Train Accuracy: 0.995  \t  Train Loss: 0.190 \t Val. Accuracy 0.919 \t Val. Loss 0.544 \n",
      "[117] Train Accuracy: 0.996  \t  Train Loss: 0.188 \t Val. Accuracy 0.914 \t Val. Loss 0.548 \n",
      "[118] Train Accuracy: 0.996  \t  Train Loss: 0.187 \t Val. Accuracy 0.916 \t Val. Loss 0.556 \n",
      "[119] Train Accuracy: 0.996  \t  Train Loss: 0.185 \t Val. Accuracy 0.913 \t Val. Loss 0.555 \n",
      "[120] Train Accuracy: 0.996  \t  Train Loss: 0.184 \t Val. Accuracy 0.914 \t Val. Loss 0.566 \n",
      "[121] Train Accuracy: 0.996  \t  Train Loss: 0.183 \t Val. Accuracy 0.915 \t Val. Loss 0.567 \n",
      "[122] Train Accuracy: 0.996  \t  Train Loss: 0.181 \t Val. Accuracy 0.915 \t Val. Loss 0.570 \n",
      "[123] Train Accuracy: 0.997  \t  Train Loss: 0.179 \t Val. Accuracy 0.916 \t Val. Loss 0.557 \n",
      "[124] Train Accuracy: 0.997  \t  Train Loss: 0.178 \t Val. Accuracy 0.914 \t Val. Loss 0.562 \n",
      "[125] Train Accuracy: 0.996  \t  Train Loss: 0.177 \t Val. Accuracy 0.916 \t Val. Loss 0.561 \n",
      "[126] Train Accuracy: 0.996  \t  Train Loss: 0.176 \t Val. Accuracy 0.918 \t Val. Loss 0.557 \n",
      "[127] Train Accuracy: 0.997  \t  Train Loss: 0.174 \t Val. Accuracy 0.918 \t Val. Loss 0.555 \n",
      "[128] Train Accuracy: 0.997  \t  Train Loss: 0.172 \t Val. Accuracy 0.916 \t Val. Loss 0.564 \n",
      "[129] Train Accuracy: 0.997  \t  Train Loss: 0.171 \t Val. Accuracy 0.919 \t Val. Loss 0.557 \n",
      "[130] Train Accuracy: 0.997  \t  Train Loss: 0.169 \t Val. Accuracy 0.914 \t Val. Loss 0.573 \n",
      "[131] Train Accuracy: 0.997  \t  Train Loss: 0.168 \t Val. Accuracy 0.916 \t Val. Loss 0.581 \n",
      "[132] Train Accuracy: 0.997  \t  Train Loss: 0.168 \t Val. Accuracy 0.914 \t Val. Loss 0.577 \n",
      "[133] Train Accuracy: 0.997  \t  Train Loss: 0.167 \t Val. Accuracy 0.915 \t Val. Loss 0.571 \n",
      "[134] Train Accuracy: 0.997  \t  Train Loss: 0.166 \t Val. Accuracy 0.915 \t Val. Loss 0.570 \n",
      "[135] Train Accuracy: 0.997  \t  Train Loss: 0.164 \t Val. Accuracy 0.916 \t Val. Loss 0.558 \n",
      "[136] Train Accuracy: 0.997  \t  Train Loss: 0.163 \t Val. Accuracy 0.918 \t Val. Loss 0.550 \n",
      "[137] Train Accuracy: 0.997  \t  Train Loss: 0.162 \t Val. Accuracy 0.919 \t Val. Loss 0.549 \n",
      "[138] Train Accuracy: 0.998  \t  Train Loss: 0.162 \t Val. Accuracy 0.923 \t Val. Loss 0.547 \n",
      "[139] Train Accuracy: 0.998  \t  Train Loss: 0.162 \t Val. Accuracy 0.922 \t Val. Loss 0.547 \n",
      "[140] Train Accuracy: 0.998  \t  Train Loss: 0.162 \t Val. Accuracy 0.923 \t Val. Loss 0.550 \n",
      "[141] Train Accuracy: 0.998  \t  Train Loss: 0.161 \t Val. Accuracy 0.924 \t Val. Loss 0.549 \n",
      "[142] Train Accuracy: 0.998  \t  Train Loss: 0.161 \t Val. Accuracy 0.923 \t Val. Loss 0.550 \n",
      "[143] Train Accuracy: 0.998  \t  Train Loss: 0.160 \t Val. Accuracy 0.923 \t Val. Loss 0.547 \n",
      "[144] Train Accuracy: 0.998  \t  Train Loss: 0.160 \t Val. Accuracy 0.924 \t Val. Loss 0.546 \n",
      "[145] Train Accuracy: 0.998  \t  Train Loss: 0.160 \t Val. Accuracy 0.924 \t Val. Loss 0.549 \n",
      "[146] Train Accuracy: 0.998  \t  Train Loss: 0.160 \t Val. Accuracy 0.924 \t Val. Loss 0.549 \n",
      "[147] Train Accuracy: 0.998  \t  Train Loss: 0.160 \t Val. Accuracy 0.924 \t Val. Loss 0.549 \n",
      "[148] Train Accuracy: 0.998  \t  Train Loss: 0.160 \t Val. Accuracy 0.923 \t Val. Loss 0.549 \n",
      "[149] Train Accuracy: 0.998  \t  Train Loss: 0.160 \t Val. Accuracy 0.923 \t Val. Loss 0.550 \n",
      "[150] Train Accuracy: 0.998  \t  Train Loss: 0.160 \t Val. Accuracy 0.923 \t Val. Loss 0.551 \n",
      "[151] Train Accuracy: 0.998  \t  Train Loss: 0.159 \t Val. Accuracy 0.922 \t Val. Loss 0.550 \n",
      "[152] Train Accuracy: 0.998  \t  Train Loss: 0.159 \t Val. Accuracy 0.923 \t Val. Loss 0.549 \n",
      "[153] Train Accuracy: 0.998  \t  Train Loss: 0.159 \t Val. Accuracy 0.923 \t Val. Loss 0.547 \n",
      "[154] Train Accuracy: 0.998  \t  Train Loss: 0.159 \t Val. Accuracy 0.922 \t Val. Loss 0.548 \n",
      "[155] Train Accuracy: 0.998  \t  Train Loss: 0.158 \t Val. Accuracy 0.923 \t Val. Loss 0.549 \n",
      "[156] Train Accuracy: 0.998  \t  Train Loss: 0.158 \t Val. Accuracy 0.922 \t Val. Loss 0.549 \n",
      "[157] Train Accuracy: 0.998  \t  Train Loss: 0.158 \t Val. Accuracy 0.919 \t Val. Loss 0.549 \n",
      "[158] Train Accuracy: 0.998  \t  Train Loss: 0.158 \t Val. Accuracy 0.922 \t Val. Loss 0.549 \n",
      "[159] Train Accuracy: 0.998  \t  Train Loss: 0.158 \t Val. Accuracy 0.922 \t Val. Loss 0.549 \n",
      "[160] Train Accuracy: 0.998  \t  Train Loss: 0.158 \t Val. Accuracy 0.921 \t Val. Loss 0.548 \n",
      "[161] Train Accuracy: 0.999  \t  Train Loss: 0.157 \t Val. Accuracy 0.923 \t Val. Loss 0.548 \n",
      "[162] Train Accuracy: 0.998  \t  Train Loss: 0.157 \t Val. Accuracy 0.922 \t Val. Loss 0.547 \n",
      "[163] Train Accuracy: 0.998  \t  Train Loss: 0.158 \t Val. Accuracy 0.920 \t Val. Loss 0.547 \n",
      "[164] Train Accuracy: 0.999  \t  Train Loss: 0.157 \t Val. Accuracy 0.919 \t Val. Loss 0.550 \n",
      "[165] Train Accuracy: 0.998  \t  Train Loss: 0.157 \t Val. Accuracy 0.919 \t Val. Loss 0.550 \n",
      "[166] Train Accuracy: 0.998  \t  Train Loss: 0.157 \t Val. Accuracy 0.919 \t Val. Loss 0.550 \n",
      "[167] Train Accuracy: 0.998  \t  Train Loss: 0.157 \t Val. Accuracy 0.919 \t Val. Loss 0.550 \n",
      "[168] Train Accuracy: 0.998  \t  Train Loss: 0.157 \t Val. Accuracy 0.919 \t Val. Loss 0.550 \n",
      "[169] Train Accuracy: 0.999  \t  Train Loss: 0.157 \t Val. Accuracy 0.920 \t Val. Loss 0.550 \n",
      "[170] Train Accuracy: 0.999  \t  Train Loss: 0.156 \t Val. Accuracy 0.920 \t Val. Loss 0.550 \n",
      "[171] Train Accuracy: 0.998  \t  Train Loss: 0.156 \t Val. Accuracy 0.919 \t Val. Loss 0.552 \n",
      "[172] Train Accuracy: 0.998  \t  Train Loss: 0.156 \t Val. Accuracy 0.918 \t Val. Loss 0.552 \n",
      "[173] Train Accuracy: 0.999  \t  Train Loss: 0.156 \t Val. Accuracy 0.919 \t Val. Loss 0.552 \n",
      "[174] Train Accuracy: 0.999  \t  Train Loss: 0.156 \t Val. Accuracy 0.918 \t Val. Loss 0.550 \n",
      "[175] Train Accuracy: 0.998  \t  Train Loss: 0.156 \t Val. Accuracy 0.919 \t Val. Loss 0.551 \n",
      "[176] Train Accuracy: 0.998  \t  Train Loss: 0.156 \t Val. Accuracy 0.919 \t Val. Loss 0.553 \n",
      "[177] Train Accuracy: 0.999  \t  Train Loss: 0.155 \t Val. Accuracy 0.918 \t Val. Loss 0.553 \n",
      "[178] Train Accuracy: 0.998  \t  Train Loss: 0.156 \t Val. Accuracy 0.918 \t Val. Loss 0.552 \n",
      "[179] Train Accuracy: 0.998  \t  Train Loss: 0.155 \t Val. Accuracy 0.918 \t Val. Loss 0.552 \n",
      "[180] Train Accuracy: 0.998  \t  Train Loss: 0.155 \t Val. Accuracy 0.918 \t Val. Loss 0.552 \n",
      "[181] Train Accuracy: 0.998  \t  Train Loss: 0.155 \t Val. Accuracy 0.918 \t Val. Loss 0.552 \n"
     ]
    }
   ],
   "source": [
    "# Batch size\n",
    "BS = 128\n",
    "\n",
    "# Start a session\n",
    "sess = tf.Session()\n",
    "\n",
    "# Set up training\n",
    "sess.run(tf.global_variables_initializer())\n",
    "steps = [32000,48000]\n",
    "it = 0\n",
    "lr = 0.1\n",
    "epoch = 0\n",
    "last_acc = 0\n",
    "first_div = False\n",
    "while it < 64000:\n",
    "    # Let's shuffle the data every epoch\n",
    "    len_ = image_train.shape[0]\n",
    "    np.random.seed(epoch)\n",
    "    np.random.shuffle(image_train)\n",
    "    np.random.seed(epoch)\n",
    "    np.random.shuffle(label_train)\n",
    "    # Go through the entire dataset once\n",
    "    accuracy_train, loss_train = [], []\n",
    "    final = 0\n",
    "    for i in range(0, image_train.shape[0]-BS+1, BS):\n",
    "        if it >= 64000:\n",
    "            break\n",
    "        if it in steps:\n",
    "            lr /= 10\n",
    "            first_div = True\n",
    "        # Train a single batch\n",
    "        batch_images, batch_labels = image_train[i:i+BS], label_train[i:i+BS]\n",
    "        final = i+BS #useful for training last batch\n",
    "        accuracy_, loss_, _ = sess.run([accuracy, loss, minimizer], feed_dict={inputs: batch_images, labels: batch_labels, is_training:True,learning_rate:lr})\n",
    "        accuracy_train.append(accuracy_)\n",
    "        loss_train.append(loss_)\n",
    "        it+=1\n",
    "    # train final batch\n",
    "    if it >= 64000:\n",
    "        break\n",
    "    if it in steps:\n",
    "        lr /= 10\n",
    "        first_div = True\n",
    "    batch_images, batch_labels = image_data[final:len_], label_data[final:len_]\n",
    "    accuracy_, loss_, _ = sess.run([accuracy, loss, minimizer], feed_dict={inputs: batch_images, labels: batch_labels, is_training:True,learning_rate:lr})\n",
    "    accuracy_train.append(accuracy_)\n",
    "    loss_train.append(loss_)\n",
    "    it+=1\n",
    "    \n",
    "    # compute validation results\n",
    "    len_val = image_val.shape[0]\n",
    "    accuracy_val, loss_val = [], []\n",
    "    final = 0\n",
    "    for i in range(0,len_val-BS+1,BS):\n",
    "        batch_images, batch_labels = image_val[i:i+BS], label_val[i:i+BS]\n",
    "        final = i+BS\n",
    "        accuracy_, loss_ = sess.run([accuracy,loss],feed_dict={final_input:batch_images,labels:batch_labels,is_training:False})\n",
    "        accuracy_val.append(accuracy_)\n",
    "        loss_val.append(loss_)\n",
    "    # test final batch\n",
    "    batch_images, batch_labels = image_val[final:len_val], label_val[final:len_val]\n",
    "    accuracy_, loss_ = sess.run([accuracy,loss],feed_dict={final_input:batch_images,labels:batch_labels,is_training:False})\n",
    "    accuracy_val.append(accuracy_)\n",
    "    loss_val.append(loss_)\n",
    "    \n",
    "    last_acc = np.mean(accuracy_train)\n",
    "    print('[%3d] Train Accuracy: %0.3f  \\t  Train Loss: %0.3f \\t Val. Accuracy %0.3f \\t Val. Loss %.3f '%(epoch, last_acc, np.mean(loss_train),np.mean(accuracy_val),np.mean(loss_val)))\n",
    "    epoch += 1\n",
    "\n",
    "print('[%3d] Train Accuracy: %0.3f  \\t  Train Loss: %0.3f \\t Val. Accuracy %0.3f \\t Val. Loss %.3f '%(epoch, last_acc, np.mean(loss_train),np.mean(accuracy_val),np.mean(loss_val)))"
   ]
  },
  {
   "cell_type": "markdown",
   "metadata": {},
   "source": [
    "### Resnet 20"
   ]
  },
  {
   "cell_type": "code",
   "execution_count": 15,
   "metadata": {
    "scrolled": true
   },
   "outputs": [
    {
     "name": "stdout",
     "output_type": "stream",
     "text": [
      "[  0] Train Accuracy: 0.431  \t  Train Loss: 1.568 \t Val. Accuracy 0.136 \t Val. Loss 5.716 \n",
      "[  1] Train Accuracy: 0.620  \t  Train Loss: 1.111 \t Val. Accuracy 0.181 \t Val. Loss 18.423 \n",
      "[  2] Train Accuracy: 0.701  \t  Train Loss: 0.910 \t Val. Accuracy 0.433 \t Val. Loss 4.424 \n",
      "[  3] Train Accuracy: 0.745  \t  Train Loss: 0.800 \t Val. Accuracy 0.462 \t Val. Loss 4.034 \n",
      "[  4] Train Accuracy: 0.773  \t  Train Loss: 0.724 \t Val. Accuracy 0.591 \t Val. Loss 2.656 \n",
      "[  5] Train Accuracy: 0.795  \t  Train Loss: 0.676 \t Val. Accuracy 0.640 \t Val. Loss 1.278 \n",
      "[  6] Train Accuracy: 0.809  \t  Train Loss: 0.642 \t Val. Accuracy 0.474 \t Val. Loss 2.757 \n",
      "[  7] Train Accuracy: 0.821  \t  Train Loss: 0.609 \t Val. Accuracy 0.634 \t Val. Loss 1.387 \n",
      "[  8] Train Accuracy: 0.830  \t  Train Loss: 0.587 \t Val. Accuracy 0.575 \t Val. Loss 1.974 \n",
      "[  9] Train Accuracy: 0.838  \t  Train Loss: 0.568 \t Val. Accuracy 0.596 \t Val. Loss 1.514 \n",
      "[ 10] Train Accuracy: 0.845  \t  Train Loss: 0.551 \t Val. Accuracy 0.696 \t Val. Loss 1.116 \n",
      "[ 11] Train Accuracy: 0.847  \t  Train Loss: 0.547 \t Val. Accuracy 0.755 \t Val. Loss 0.885 \n",
      "[ 12] Train Accuracy: 0.858  \t  Train Loss: 0.528 \t Val. Accuracy 0.671 \t Val. Loss 1.222 \n",
      "[ 13] Train Accuracy: 0.861  \t  Train Loss: 0.520 \t Val. Accuracy 0.664 \t Val. Loss 1.347 \n",
      "[ 14] Train Accuracy: 0.865  \t  Train Loss: 0.509 \t Val. Accuracy 0.728 \t Val. Loss 1.087 \n",
      "[ 15] Train Accuracy: 0.869  \t  Train Loss: 0.504 \t Val. Accuracy 0.676 \t Val. Loss 1.296 \n",
      "[ 16] Train Accuracy: 0.871  \t  Train Loss: 0.499 \t Val. Accuracy 0.624 \t Val. Loss 1.535 \n",
      "[ 17] Train Accuracy: 0.874  \t  Train Loss: 0.490 \t Val. Accuracy 0.795 \t Val. Loss 0.761 \n",
      "[ 18] Train Accuracy: 0.878  \t  Train Loss: 0.481 \t Val. Accuracy 0.777 \t Val. Loss 0.806 \n",
      "[ 19] Train Accuracy: 0.880  \t  Train Loss: 0.479 \t Val. Accuracy 0.764 \t Val. Loss 0.920 \n",
      "[ 20] Train Accuracy: 0.882  \t  Train Loss: 0.472 \t Val. Accuracy 0.798 \t Val. Loss 0.758 \n",
      "[ 21] Train Accuracy: 0.886  \t  Train Loss: 0.464 \t Val. Accuracy 0.643 \t Val. Loss 1.439 \n",
      "[ 22] Train Accuracy: 0.888  \t  Train Loss: 0.460 \t Val. Accuracy 0.716 \t Val. Loss 1.229 \n",
      "[ 23] Train Accuracy: 0.891  \t  Train Loss: 0.456 \t Val. Accuracy 0.741 \t Val. Loss 1.116 \n",
      "[ 24] Train Accuracy: 0.890  \t  Train Loss: 0.458 \t Val. Accuracy 0.754 \t Val. Loss 0.948 \n",
      "[ 25] Train Accuracy: 0.896  \t  Train Loss: 0.449 \t Val. Accuracy 0.777 \t Val. Loss 0.857 \n",
      "[ 26] Train Accuracy: 0.898  \t  Train Loss: 0.442 \t Val. Accuracy 0.779 \t Val. Loss 0.866 \n",
      "[ 27] Train Accuracy: 0.897  \t  Train Loss: 0.448 \t Val. Accuracy 0.767 \t Val. Loss 0.909 \n",
      "[ 28] Train Accuracy: 0.898  \t  Train Loss: 0.445 \t Val. Accuracy 0.781 \t Val. Loss 0.872 \n",
      "[ 29] Train Accuracy: 0.903  \t  Train Loss: 0.436 \t Val. Accuracy 0.786 \t Val. Loss 0.845 \n",
      "[ 30] Train Accuracy: 0.900  \t  Train Loss: 0.441 \t Val. Accuracy 0.776 \t Val. Loss 0.866 \n",
      "[ 31] Train Accuracy: 0.903  \t  Train Loss: 0.432 \t Val. Accuracy 0.714 \t Val. Loss 1.264 \n",
      "[ 32] Train Accuracy: 0.903  \t  Train Loss: 0.431 \t Val. Accuracy 0.685 \t Val. Loss 1.374 \n",
      "[ 33] Train Accuracy: 0.905  \t  Train Loss: 0.429 \t Val. Accuracy 0.832 \t Val. Loss 0.701 \n",
      "[ 34] Train Accuracy: 0.906  \t  Train Loss: 0.425 \t Val. Accuracy 0.776 \t Val. Loss 0.904 \n",
      "[ 35] Train Accuracy: 0.908  \t  Train Loss: 0.423 \t Val. Accuracy 0.784 \t Val. Loss 0.862 \n",
      "[ 36] Train Accuracy: 0.908  \t  Train Loss: 0.422 \t Val. Accuracy 0.739 \t Val. Loss 1.119 \n",
      "[ 37] Train Accuracy: 0.908  \t  Train Loss: 0.426 \t Val. Accuracy 0.742 \t Val. Loss 1.140 \n",
      "[ 38] Train Accuracy: 0.909  \t  Train Loss: 0.418 \t Val. Accuracy 0.773 \t Val. Loss 0.955 \n",
      "[ 39] Train Accuracy: 0.909  \t  Train Loss: 0.421 \t Val. Accuracy 0.694 \t Val. Loss 1.254 \n",
      "[ 40] Train Accuracy: 0.911  \t  Train Loss: 0.423 \t Val. Accuracy 0.781 \t Val. Loss 0.860 \n",
      "[ 41] Train Accuracy: 0.911  \t  Train Loss: 0.421 \t Val. Accuracy 0.826 \t Val. Loss 0.710 \n",
      "[ 42] Train Accuracy: 0.912  \t  Train Loss: 0.417 \t Val. Accuracy 0.794 \t Val. Loss 0.818 \n",
      "[ 43] Train Accuracy: 0.914  \t  Train Loss: 0.415 \t Val. Accuracy 0.784 \t Val. Loss 0.853 \n",
      "[ 44] Train Accuracy: 0.914  \t  Train Loss: 0.413 \t Val. Accuracy 0.793 \t Val. Loss 0.875 \n",
      "[ 45] Train Accuracy: 0.916  \t  Train Loss: 0.409 \t Val. Accuracy 0.752 \t Val. Loss 1.055 \n",
      "[ 46] Train Accuracy: 0.917  \t  Train Loss: 0.406 \t Val. Accuracy 0.802 \t Val. Loss 0.843 \n",
      "[ 47] Train Accuracy: 0.914  \t  Train Loss: 0.418 \t Val. Accuracy 0.762 \t Val. Loss 1.012 \n",
      "[ 48] Train Accuracy: 0.919  \t  Train Loss: 0.404 \t Val. Accuracy 0.772 \t Val. Loss 0.925 \n",
      "[ 49] Train Accuracy: 0.915  \t  Train Loss: 0.409 \t Val. Accuracy 0.689 \t Val. Loss 1.385 \n",
      "[ 50] Train Accuracy: 0.919  \t  Train Loss: 0.405 \t Val. Accuracy 0.721 \t Val. Loss 1.137 \n",
      "[ 51] Train Accuracy: 0.917  \t  Train Loss: 0.408 \t Val. Accuracy 0.809 \t Val. Loss 0.843 \n",
      "[ 52] Train Accuracy: 0.918  \t  Train Loss: 0.404 \t Val. Accuracy 0.804 \t Val. Loss 0.851 \n",
      "[ 53] Train Accuracy: 0.919  \t  Train Loss: 0.402 \t Val. Accuracy 0.774 \t Val. Loss 1.035 \n",
      "[ 54] Train Accuracy: 0.920  \t  Train Loss: 0.401 \t Val. Accuracy 0.706 \t Val. Loss 1.321 \n",
      "[ 55] Train Accuracy: 0.920  \t  Train Loss: 0.399 \t Val. Accuracy 0.757 \t Val. Loss 0.991 \n",
      "[ 56] Train Accuracy: 0.920  \t  Train Loss: 0.400 \t Val. Accuracy 0.800 \t Val. Loss 0.857 \n",
      "[ 57] Train Accuracy: 0.921  \t  Train Loss: 0.400 \t Val. Accuracy 0.780 \t Val. Loss 0.878 \n",
      "[ 58] Train Accuracy: 0.921  \t  Train Loss: 0.398 \t Val. Accuracy 0.778 \t Val. Loss 0.972 \n",
      "[ 59] Train Accuracy: 0.923  \t  Train Loss: 0.400 \t Val. Accuracy 0.814 \t Val. Loss 0.869 \n",
      "[ 60] Train Accuracy: 0.921  \t  Train Loss: 0.404 \t Val. Accuracy 0.804 \t Val. Loss 0.834 \n",
      "[ 61] Train Accuracy: 0.922  \t  Train Loss: 0.397 \t Val. Accuracy 0.776 \t Val. Loss 0.923 \n",
      "[ 62] Train Accuracy: 0.923  \t  Train Loss: 0.398 \t Val. Accuracy 0.814 \t Val. Loss 0.863 \n",
      "[ 63] Train Accuracy: 0.924  \t  Train Loss: 0.397 \t Val. Accuracy 0.767 \t Val. Loss 1.030 \n",
      "[ 64] Train Accuracy: 0.926  \t  Train Loss: 0.392 \t Val. Accuracy 0.820 \t Val. Loss 0.760 \n",
      "[ 65] Train Accuracy: 0.927  \t  Train Loss: 0.389 \t Val. Accuracy 0.775 \t Val. Loss 0.985 \n",
      "[ 66] Train Accuracy: 0.925  \t  Train Loss: 0.394 \t Val. Accuracy 0.832 \t Val. Loss 0.742 \n",
      "[ 67] Train Accuracy: 0.925  \t  Train Loss: 0.390 \t Val. Accuracy 0.625 \t Val. Loss 1.895 \n",
      "[ 68] Train Accuracy: 0.923  \t  Train Loss: 0.396 \t Val. Accuracy 0.794 \t Val. Loss 0.891 \n",
      "[ 69] Train Accuracy: 0.925  \t  Train Loss: 0.395 \t Val. Accuracy 0.837 \t Val. Loss 0.726 \n",
      "[ 70] Train Accuracy: 0.927  \t  Train Loss: 0.390 \t Val. Accuracy 0.754 \t Val. Loss 1.035 \n",
      "[ 71] Train Accuracy: 0.927  \t  Train Loss: 0.392 \t Val. Accuracy 0.804 \t Val. Loss 0.839 \n",
      "[ 72] Train Accuracy: 0.927  \t  Train Loss: 0.391 \t Val. Accuracy 0.803 \t Val. Loss 0.871 \n",
      "[ 73] Train Accuracy: 0.926  \t  Train Loss: 0.392 \t Val. Accuracy 0.788 \t Val. Loss 0.899 \n",
      "[ 74] Train Accuracy: 0.928  \t  Train Loss: 0.389 \t Val. Accuracy 0.747 \t Val. Loss 1.127 \n",
      "[ 75] Train Accuracy: 0.928  \t  Train Loss: 0.389 \t Val. Accuracy 0.797 \t Val. Loss 0.900 \n",
      "[ 76] Train Accuracy: 0.927  \t  Train Loss: 0.390 \t Val. Accuracy 0.740 \t Val. Loss 1.238 \n",
      "[ 77] Train Accuracy: 0.928  \t  Train Loss: 0.389 \t Val. Accuracy 0.764 \t Val. Loss 1.006 \n",
      "[ 78] Train Accuracy: 0.930  \t  Train Loss: 0.384 \t Val. Accuracy 0.795 \t Val. Loss 0.939 \n",
      "[ 79] Train Accuracy: 0.928  \t  Train Loss: 0.387 \t Val. Accuracy 0.819 \t Val. Loss 0.792 \n",
      "[ 80] Train Accuracy: 0.930  \t  Train Loss: 0.382 \t Val. Accuracy 0.735 \t Val. Loss 1.220 \n",
      "[ 81] Train Accuracy: 0.931  \t  Train Loss: 0.381 \t Val. Accuracy 0.829 \t Val. Loss 0.782 \n",
      "[ 82] Train Accuracy: 0.930  \t  Train Loss: 0.384 \t Val. Accuracy 0.711 \t Val. Loss 1.491 \n",
      "[ 83] Train Accuracy: 0.929  \t  Train Loss: 0.383 \t Val. Accuracy 0.791 \t Val. Loss 0.956 \n",
      "[ 84] Train Accuracy: 0.929  \t  Train Loss: 0.384 \t Val. Accuracy 0.800 \t Val. Loss 0.885 \n",
      "[ 85] Train Accuracy: 0.931  \t  Train Loss: 0.381 \t Val. Accuracy 0.775 \t Val. Loss 1.043 \n",
      "[ 86] Train Accuracy: 0.931  \t  Train Loss: 0.379 \t Val. Accuracy 0.719 \t Val. Loss 1.291 \n",
      "[ 87] Train Accuracy: 0.929  \t  Train Loss: 0.385 \t Val. Accuracy 0.822 \t Val. Loss 0.815 \n",
      "[ 88] Train Accuracy: 0.928  \t  Train Loss: 0.388 \t Val. Accuracy 0.774 \t Val. Loss 1.052 \n",
      "[ 89] Train Accuracy: 0.931  \t  Train Loss: 0.382 \t Val. Accuracy 0.785 \t Val. Loss 0.961 \n",
      "[ 90] Train Accuracy: 0.932  \t  Train Loss: 0.378 \t Val. Accuracy 0.836 \t Val. Loss 0.782 \n"
     ]
    },
    {
     "name": "stdout",
     "output_type": "stream",
     "text": [
      "[ 91] Train Accuracy: 0.959  \t  Train Loss: 0.308 \t Val. Accuracy 0.892 \t Val. Loss 0.533 \n",
      "[ 92] Train Accuracy: 0.966  \t  Train Loss: 0.287 \t Val. Accuracy 0.897 \t Val. Loss 0.512 \n",
      "[ 93] Train Accuracy: 0.971  \t  Train Loss: 0.274 \t Val. Accuracy 0.899 \t Val. Loss 0.528 \n",
      "[ 94] Train Accuracy: 0.972  \t  Train Loss: 0.267 \t Val. Accuracy 0.902 \t Val. Loss 0.500 \n",
      "[ 95] Train Accuracy: 0.976  \t  Train Loss: 0.258 \t Val. Accuracy 0.906 \t Val. Loss 0.495 \n",
      "[ 96] Train Accuracy: 0.976  \t  Train Loss: 0.255 \t Val. Accuracy 0.904 \t Val. Loss 0.506 \n",
      "[ 97] Train Accuracy: 0.978  \t  Train Loss: 0.250 \t Val. Accuracy 0.904 \t Val. Loss 0.515 \n",
      "[ 98] Train Accuracy: 0.978  \t  Train Loss: 0.245 \t Val. Accuracy 0.905 \t Val. Loss 0.495 \n",
      "[ 99] Train Accuracy: 0.980  \t  Train Loss: 0.242 \t Val. Accuracy 0.901 \t Val. Loss 0.536 \n",
      "[100] Train Accuracy: 0.980  \t  Train Loss: 0.238 \t Val. Accuracy 0.906 \t Val. Loss 0.501 \n",
      "[101] Train Accuracy: 0.980  \t  Train Loss: 0.237 \t Val. Accuracy 0.908 \t Val. Loss 0.500 \n",
      "[102] Train Accuracy: 0.981  \t  Train Loss: 0.234 \t Val. Accuracy 0.902 \t Val. Loss 0.502 \n",
      "[103] Train Accuracy: 0.981  \t  Train Loss: 0.232 \t Val. Accuracy 0.902 \t Val. Loss 0.526 \n",
      "[104] Train Accuracy: 0.983  \t  Train Loss: 0.226 \t Val. Accuracy 0.908 \t Val. Loss 0.505 \n",
      "[105] Train Accuracy: 0.983  \t  Train Loss: 0.225 \t Val. Accuracy 0.905 \t Val. Loss 0.513 \n",
      "[106] Train Accuracy: 0.983  \t  Train Loss: 0.224 \t Val. Accuracy 0.907 \t Val. Loss 0.494 \n",
      "[107] Train Accuracy: 0.984  \t  Train Loss: 0.220 \t Val. Accuracy 0.904 \t Val. Loss 0.515 \n",
      "[108] Train Accuracy: 0.984  \t  Train Loss: 0.218 \t Val. Accuracy 0.904 \t Val. Loss 0.519 \n",
      "[109] Train Accuracy: 0.985  \t  Train Loss: 0.215 \t Val. Accuracy 0.904 \t Val. Loss 0.520 \n",
      "[110] Train Accuracy: 0.986  \t  Train Loss: 0.211 \t Val. Accuracy 0.899 \t Val. Loss 0.531 \n",
      "[111] Train Accuracy: 0.985  \t  Train Loss: 0.211 \t Val. Accuracy 0.901 \t Val. Loss 0.532 \n",
      "[112] Train Accuracy: 0.985  \t  Train Loss: 0.209 \t Val. Accuracy 0.902 \t Val. Loss 0.543 \n",
      "[113] Train Accuracy: 0.986  \t  Train Loss: 0.207 \t Val. Accuracy 0.903 \t Val. Loss 0.519 \n",
      "[114] Train Accuracy: 0.987  \t  Train Loss: 0.205 \t Val. Accuracy 0.906 \t Val. Loss 0.516 \n",
      "[115] Train Accuracy: 0.986  \t  Train Loss: 0.205 \t Val. Accuracy 0.903 \t Val. Loss 0.526 \n",
      "[116] Train Accuracy: 0.987  \t  Train Loss: 0.202 \t Val. Accuracy 0.905 \t Val. Loss 0.528 \n",
      "[117] Train Accuracy: 0.988  \t  Train Loss: 0.200 \t Val. Accuracy 0.899 \t Val. Loss 0.565 \n",
      "[118] Train Accuracy: 0.987  \t  Train Loss: 0.198 \t Val. Accuracy 0.900 \t Val. Loss 0.555 \n",
      "[119] Train Accuracy: 0.989  \t  Train Loss: 0.195 \t Val. Accuracy 0.902 \t Val. Loss 0.533 \n",
      "[120] Train Accuracy: 0.988  \t  Train Loss: 0.195 \t Val. Accuracy 0.902 \t Val. Loss 0.534 \n",
      "[121] Train Accuracy: 0.989  \t  Train Loss: 0.193 \t Val. Accuracy 0.900 \t Val. Loss 0.542 \n",
      "[122] Train Accuracy: 0.988  \t  Train Loss: 0.192 \t Val. Accuracy 0.900 \t Val. Loss 0.553 \n",
      "[123] Train Accuracy: 0.989  \t  Train Loss: 0.191 \t Val. Accuracy 0.902 \t Val. Loss 0.542 \n",
      "[124] Train Accuracy: 0.989  \t  Train Loss: 0.190 \t Val. Accuracy 0.898 \t Val. Loss 0.565 \n",
      "[125] Train Accuracy: 0.989  \t  Train Loss: 0.187 \t Val. Accuracy 0.899 \t Val. Loss 0.570 \n",
      "[126] Train Accuracy: 0.989  \t  Train Loss: 0.186 \t Val. Accuracy 0.896 \t Val. Loss 0.584 \n",
      "[127] Train Accuracy: 0.989  \t  Train Loss: 0.184 \t Val. Accuracy 0.903 \t Val. Loss 0.544 \n",
      "[128] Train Accuracy: 0.990  \t  Train Loss: 0.183 \t Val. Accuracy 0.904 \t Val. Loss 0.546 \n",
      "[129] Train Accuracy: 0.989  \t  Train Loss: 0.183 \t Val. Accuracy 0.902 \t Val. Loss 0.538 \n",
      "[130] Train Accuracy: 0.989  \t  Train Loss: 0.181 \t Val. Accuracy 0.897 \t Val. Loss 0.583 \n",
      "[131] Train Accuracy: 0.989  \t  Train Loss: 0.180 \t Val. Accuracy 0.887 \t Val. Loss 0.600 \n",
      "[132] Train Accuracy: 0.990  \t  Train Loss: 0.178 \t Val. Accuracy 0.900 \t Val. Loss 0.553 \n",
      "[133] Train Accuracy: 0.990  \t  Train Loss: 0.176 \t Val. Accuracy 0.901 \t Val. Loss 0.543 \n",
      "[134] Train Accuracy: 0.990  \t  Train Loss: 0.176 \t Val. Accuracy 0.904 \t Val. Loss 0.549 \n",
      "[135] Train Accuracy: 0.990  \t  Train Loss: 0.174 \t Val. Accuracy 0.902 \t Val. Loss 0.530 \n",
      "[136] Train Accuracy: 0.991  \t  Train Loss: 0.172 \t Val. Accuracy 0.902 \t Val. Loss 0.536 \n",
      "[137] Train Accuracy: 0.992  \t  Train Loss: 0.169 \t Val. Accuracy 0.904 \t Val. Loss 0.529 \n",
      "[138] Train Accuracy: 0.992  \t  Train Loss: 0.168 \t Val. Accuracy 0.904 \t Val. Loss 0.526 \n",
      "[139] Train Accuracy: 0.993  \t  Train Loss: 0.167 \t Val. Accuracy 0.905 \t Val. Loss 0.527 \n",
      "[140] Train Accuracy: 0.993  \t  Train Loss: 0.167 \t Val. Accuracy 0.904 \t Val. Loss 0.527 \n",
      "[141] Train Accuracy: 0.993  \t  Train Loss: 0.167 \t Val. Accuracy 0.904 \t Val. Loss 0.530 \n",
      "[142] Train Accuracy: 0.993  \t  Train Loss: 0.166 \t Val. Accuracy 0.902 \t Val. Loss 0.532 \n",
      "[143] Train Accuracy: 0.993  \t  Train Loss: 0.166 \t Val. Accuracy 0.903 \t Val. Loss 0.534 \n",
      "[144] Train Accuracy: 0.994  \t  Train Loss: 0.165 \t Val. Accuracy 0.903 \t Val. Loss 0.537 \n",
      "[145] Train Accuracy: 0.993  \t  Train Loss: 0.165 \t Val. Accuracy 0.904 \t Val. Loss 0.535 \n",
      "[146] Train Accuracy: 0.994  \t  Train Loss: 0.165 \t Val. Accuracy 0.904 \t Val. Loss 0.537 \n",
      "[147] Train Accuracy: 0.993  \t  Train Loss: 0.166 \t Val. Accuracy 0.903 \t Val. Loss 0.533 \n",
      "[148] Train Accuracy: 0.993  \t  Train Loss: 0.165 \t Val. Accuracy 0.904 \t Val. Loss 0.534 \n",
      "[149] Train Accuracy: 0.994  \t  Train Loss: 0.164 \t Val. Accuracy 0.903 \t Val. Loss 0.531 \n",
      "[150] Train Accuracy: 0.993  \t  Train Loss: 0.164 \t Val. Accuracy 0.904 \t Val. Loss 0.530 \n",
      "[151] Train Accuracy: 0.994  \t  Train Loss: 0.165 \t Val. Accuracy 0.902 \t Val. Loss 0.533 \n",
      "[152] Train Accuracy: 0.993  \t  Train Loss: 0.165 \t Val. Accuracy 0.903 \t Val. Loss 0.535 \n",
      "[153] Train Accuracy: 0.994  \t  Train Loss: 0.164 \t Val. Accuracy 0.902 \t Val. Loss 0.536 \n",
      "[154] Train Accuracy: 0.993  \t  Train Loss: 0.164 \t Val. Accuracy 0.902 \t Val. Loss 0.537 \n",
      "[155] Train Accuracy: 0.993  \t  Train Loss: 0.165 \t Val. Accuracy 0.901 \t Val. Loss 0.536 \n",
      "[156] Train Accuracy: 0.993  \t  Train Loss: 0.164 \t Val. Accuracy 0.902 \t Val. Loss 0.536 \n",
      "[157] Train Accuracy: 0.993  \t  Train Loss: 0.163 \t Val. Accuracy 0.903 \t Val. Loss 0.538 \n",
      "[158] Train Accuracy: 0.993  \t  Train Loss: 0.163 \t Val. Accuracy 0.901 \t Val. Loss 0.540 \n",
      "[159] Train Accuracy: 0.994  \t  Train Loss: 0.163 \t Val. Accuracy 0.903 \t Val. Loss 0.539 \n",
      "[160] Train Accuracy: 0.994  \t  Train Loss: 0.163 \t Val. Accuracy 0.903 \t Val. Loss 0.539 \n",
      "[161] Train Accuracy: 0.994  \t  Train Loss: 0.162 \t Val. Accuracy 0.904 \t Val. Loss 0.535 \n",
      "[162] Train Accuracy: 0.994  \t  Train Loss: 0.162 \t Val. Accuracy 0.903 \t Val. Loss 0.536 \n",
      "[163] Train Accuracy: 0.994  \t  Train Loss: 0.163 \t Val. Accuracy 0.903 \t Val. Loss 0.536 \n",
      "[164] Train Accuracy: 0.994  \t  Train Loss: 0.162 \t Val. Accuracy 0.902 \t Val. Loss 0.537 \n",
      "[165] Train Accuracy: 0.994  \t  Train Loss: 0.162 \t Val. Accuracy 0.902 \t Val. Loss 0.537 \n",
      "[166] Train Accuracy: 0.994  \t  Train Loss: 0.162 \t Val. Accuracy 0.902 \t Val. Loss 0.538 \n",
      "[167] Train Accuracy: 0.994  \t  Train Loss: 0.161 \t Val. Accuracy 0.902 \t Val. Loss 0.539 \n",
      "[168] Train Accuracy: 0.994  \t  Train Loss: 0.162 \t Val. Accuracy 0.903 \t Val. Loss 0.538 \n",
      "[169] Train Accuracy: 0.994  \t  Train Loss: 0.161 \t Val. Accuracy 0.904 \t Val. Loss 0.539 \n",
      "[170] Train Accuracy: 0.995  \t  Train Loss: 0.161 \t Val. Accuracy 0.902 \t Val. Loss 0.540 \n",
      "[171] Train Accuracy: 0.994  \t  Train Loss: 0.161 \t Val. Accuracy 0.901 \t Val. Loss 0.539 \n",
      "[172] Train Accuracy: 0.995  \t  Train Loss: 0.160 \t Val. Accuracy 0.902 \t Val. Loss 0.540 \n",
      "[173] Train Accuracy: 0.994  \t  Train Loss: 0.161 \t Val. Accuracy 0.902 \t Val. Loss 0.539 \n",
      "[174] Train Accuracy: 0.995  \t  Train Loss: 0.160 \t Val. Accuracy 0.902 \t Val. Loss 0.538 \n",
      "[175] Train Accuracy: 0.994  \t  Train Loss: 0.160 \t Val. Accuracy 0.903 \t Val. Loss 0.536 \n",
      "[176] Train Accuracy: 0.994  \t  Train Loss: 0.160 \t Val. Accuracy 0.902 \t Val. Loss 0.541 \n",
      "[177] Train Accuracy: 0.994  \t  Train Loss: 0.160 \t Val. Accuracy 0.902 \t Val. Loss 0.543 \n",
      "[178] Train Accuracy: 0.994  \t  Train Loss: 0.160 \t Val. Accuracy 0.901 \t Val. Loss 0.543 \n",
      "[179] Train Accuracy: 0.994  \t  Train Loss: 0.161 \t Val. Accuracy 0.901 \t Val. Loss 0.538 \n",
      "[180] Train Accuracy: 0.994  \t  Train Loss: 0.159 \t Val. Accuracy 0.903 \t Val. Loss 0.538 \n",
      "[181] Train Accuracy: 0.994  \t  Train Loss: 0.158 \t Val. Accuracy 0.903 \t Val. Loss 0.538 \n"
     ]
    }
   ],
   "source": [
    "# Batch size\n",
    "BS = 128\n",
    "\n",
    "# Start a session\n",
    "sess = tf.Session()\n",
    "\n",
    "# Set up training\n",
    "sess.run(tf.global_variables_initializer())\n",
    "steps = [32000,48000]\n",
    "it = 0\n",
    "lr = 0.1\n",
    "epoch = 0\n",
    "last_acc = 0\n",
    "first_div = False\n",
    "while it < 64000:\n",
    "    # Let's shuffle the data every epoch\n",
    "    len_ = image_train.shape[0]\n",
    "    np.random.seed(epoch)\n",
    "    np.random.shuffle(image_train)\n",
    "    np.random.seed(epoch)\n",
    "    np.random.shuffle(label_train)\n",
    "    # Go through the entire dataset once\n",
    "    accuracy_train, loss_train = [], []\n",
    "    final = 0\n",
    "    for i in range(0, image_train.shape[0]-BS+1, BS):\n",
    "        if it >= 64000:\n",
    "            break\n",
    "        if it in steps:\n",
    "            lr /= 10\n",
    "            first_div = True\n",
    "        # Train a single batch\n",
    "        batch_images, batch_labels = image_train[i:i+BS], label_train[i:i+BS]\n",
    "        final = i+BS #useful for training last batch\n",
    "        accuracy_, loss_, _ = sess.run([accuracy, loss, minimizer], feed_dict={inputs: batch_images, labels: batch_labels, is_training:True,learning_rate:lr})\n",
    "        accuracy_train.append(accuracy_)\n",
    "        loss_train.append(loss_)\n",
    "        it+=1\n",
    "    # train final batch\n",
    "    if it >= 64000:\n",
    "        break\n",
    "    if it in steps:\n",
    "        lr /= 10\n",
    "        first_div = True\n",
    "    batch_images, batch_labels = image_data[final:len_], label_data[final:len_]\n",
    "    accuracy_, loss_, _ = sess.run([accuracy, loss, minimizer], feed_dict={inputs: batch_images, labels: batch_labels, is_training:True,learning_rate:lr})\n",
    "    accuracy_train.append(accuracy_)\n",
    "    loss_train.append(loss_)\n",
    "    it+=1\n",
    "    \n",
    "    # compute validation results\n",
    "    len_val = image_val.shape[0]\n",
    "    accuracy_val, loss_val = [], []\n",
    "    final = 0\n",
    "    for i in range(0,len_val-BS+1,BS):\n",
    "        batch_images, batch_labels = image_val[i:i+BS], label_val[i:i+BS]\n",
    "        final = i+BS\n",
    "        accuracy_, loss_ = sess.run([accuracy,loss],feed_dict={final_input:batch_images,labels:batch_labels,is_training:False})\n",
    "        accuracy_val.append(accuracy_)\n",
    "        loss_val.append(loss_)\n",
    "    # test final batch\n",
    "    batch_images, batch_labels = image_val[final:len_val], label_val[final:len_val]\n",
    "    accuracy_, loss_ = sess.run([accuracy,loss],feed_dict={final_input:batch_images,labels:batch_labels,is_training:False})\n",
    "    accuracy_val.append(accuracy_)\n",
    "    loss_val.append(loss_)\n",
    "    \n",
    "    last_acc = np.mean(accuracy_train)\n",
    "    print('[%3d] Train Accuracy: %0.3f  \\t  Train Loss: %0.3f \\t Val. Accuracy %0.3f \\t Val. Loss %.3f '%(epoch, last_acc, np.mean(loss_train),np.mean(accuracy_val),np.mean(loss_val)))\n",
    "    epoch += 1\n",
    "\n",
    "print('[%3d] Train Accuracy: %0.3f  \\t  Train Loss: %0.3f \\t Val. Accuracy %0.3f \\t Val. Loss %.3f '%(epoch, last_acc, np.mean(loss_train),np.mean(accuracy_val),np.mean(loss_val)))"
   ]
  },
  {
   "cell_type": "markdown",
   "metadata": {
    "collapsed": true
   },
   "source": [
    "### Save Model"
   ]
  },
  {
   "cell_type": "code",
   "execution_count": 16,
   "metadata": {
    "collapsed": true
   },
   "outputs": [],
   "source": [
    "# Source: CS342 with Dr. Krähenbühl\n",
    "def save(output_file, graph=None, session=None):\n",
    "    from zipfile import ZipFile\n",
    "    from os import path, remove, rmdir\n",
    "    from tempfile import mkdtemp\n",
    "\n",
    "    tmp_dir = mkdtemp()\n",
    "    tmp_output = path.join(tmp_dir, path.basename(output_file))\n",
    "    with graph.as_default():\n",
    "        saver = tf.train.Saver(allow_empty=True)\n",
    "        saver.save(session, tmp_output, write_state=False)\n",
    "\n",
    "    of = ZipFile(output_file, 'w')\n",
    "    for f in glob(tmp_output+'.*'):\n",
    "        of.write(f, path.basename(f))\n",
    "        remove(f)\n",
    "    of.close()\n",
    "    rmdir(tmp_dir)"
   ]
  },
  {
   "cell_type": "code",
   "execution_count": 17,
   "metadata": {
    "collapsed": true
   },
   "outputs": [],
   "source": [
    "graph = tf.get_default_graph()\n",
    "save('./resnet32.tfg',graph,sess)"
   ]
  },
  {
   "cell_type": "markdown",
   "metadata": {},
   "source": [
    "### Load Model\n",
    "\n",
    "\n",
    "\n"
   ]
  },
  {
   "cell_type": "code",
   "execution_count": 31,
   "metadata": {
    "collapsed": true
   },
   "outputs": [],
   "source": [
    "def load(input_file, graph=None, session=None):\n",
    "    from os import path\n",
    "    from shutil import rmtree\n",
    "    from tempfile import mkdtemp\n",
    "    from zipfile import ZipFile\n",
    "\n",
    "    tmp_dir = mkdtemp()\n",
    "\n",
    "    f = ZipFile(input_file, 'r')\n",
    "    f.extractall(tmp_dir)\n",
    "    f.close()\n",
    "\n",
    "    # Find the model name\n",
    "    meta_files = glob(path.join(tmp_dir, '*.meta'))\n",
    "    if len(meta_files) < 1:\n",
    "        raise IOError( \"[E] No meta file found, giving up\" )\n",
    "    if len(meta_files) > 1:\n",
    "        raise IOError( \"[E] More than one meta file found, giving up\" )\n",
    "\n",
    "    meta_file = meta_files[0]\n",
    "    model_file = meta_file.replace('.meta', '')\n",
    "\n",
    "    if graph is None:\n",
    "        graph = tf.get_default_graph()\n",
    "    if session is None:\n",
    "        session = tf.get_default_session()\n",
    "    if session is None:\n",
    "        session = tf.Session()\n",
    "\n",
    "    # Load the model in TF\n",
    "    with graph.as_default():\n",
    "        saver = tf.train.import_meta_graph(meta_file)\n",
    "        if saver is not None:\n",
    "            saver.restore(session, model_file)\n",
    "    rmtree(tmp_dir)\n",
    "    return graph"
   ]
  },
  {
   "cell_type": "code",
   "execution_count": null,
   "metadata": {},
   "outputs": [],
   "source": [
    "graph = load('./week4_model_temp.tfg')"
   ]
  },
  {
   "cell_type": "markdown",
   "metadata": {},
   "source": [
    "### Make Test Predictions"
   ]
  },
  {
   "cell_type": "code",
   "execution_count": 8,
   "metadata": {
    "collapsed": true
   },
   "outputs": [],
   "source": [
    "test_files = glob('./test/*')\n",
    "test_files = sorted(test_files, key = lambda x:int(x.split('\\\\')[1].split('.png')[0]))"
   ]
  },
  {
   "cell_type": "code",
   "execution_count": 11,
   "metadata": {
    "collapsed": true
   },
   "outputs": [],
   "source": [
    "image_test = convert_images(test_files)"
   ]
  },
  {
   "cell_type": "code",
   "execution_count": 12,
   "metadata": {
    "collapsed": true
   },
   "outputs": [],
   "source": [
    "np.save('test.npy',image_test)"
   ]
  },
  {
   "cell_type": "code",
   "execution_count": 46,
   "metadata": {},
   "outputs": [
    {
     "data": {
      "text/plain": [
       "(300000, 32, 32, 3)"
      ]
     },
     "execution_count": 46,
     "metadata": {},
     "output_type": "execute_result"
    }
   ],
   "source": [
    "image_test.shape"
   ]
  },
  {
   "cell_type": "code",
   "execution_count": null,
   "metadata": {
    "scrolled": true
   },
   "outputs": [],
   "source": [
    "sess = tf.Session()\n",
    "with graph.as_default():\n",
    "    test_batch = 3000 # batch shape\n",
    "    predictions = []\n",
    "    for i in range(0,image_test.shape[0],test_batch):\n",
    "        if i%90000==0:\n",
    "            print(i)\n",
    "        batch_images = image_test[i:i+test_batch]\n",
    "        batch_pred = sess.run(tf.argmax(output, 1), feed_dict = {final_input: batch_images,is_training:False})\n",
    "        for j in range(test_batch):\n",
    "            predictions.append(batch_pred[j])"
   ]
  },
  {
   "cell_type": "code",
   "execution_count": null,
   "metadata": {
    "scrolled": true
   },
   "outputs": [],
   "source": [
    "test_classes = np.asarray([labels_unique[predictions[i]] for i in range(len(predictions))])\n",
    "test_df = pd.DataFrame(test_classes)\n",
    "test_df['id'] = pd.Series([i for i in range(1,len(predictions)+1)])\n",
    "test_df['label'] = test_df[test_df.columns[0]]\n",
    "test_df = test_df[['id','label']]\n",
    "test_df"
   ]
  },
  {
   "cell_type": "code",
   "execution_count": 57,
   "metadata": {
    "collapsed": true
   },
   "outputs": [],
   "source": [
    "test_df.to_csv('cnn_week2_temp.csv',index=False)"
   ]
  }
 ],
 "metadata": {
  "kernelspec": {
   "display_name": "Python 3",
   "language": "python",
   "name": "python3"
  },
  "language_info": {
   "codemirror_mode": {
    "name": "ipython",
    "version": 3
   },
   "file_extension": ".py",
   "mimetype": "text/x-python",
   "name": "python",
   "nbconvert_exporter": "python",
   "pygments_lexer": "ipython3",
   "version": "3.6.2rc1"
  }
 },
 "nbformat": 4,
 "nbformat_minor": 2
}
